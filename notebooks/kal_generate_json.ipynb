{
 "cells": [
  {
   "cell_type": "code",
   "execution_count": 1,
   "id": "22a5f0f6-d2c5-4980-8680-a028865d38e8",
   "metadata": {},
   "outputs": [],
   "source": [
    "import json\n",
    "import pandas as pd\n",
    "import numpy as np"
   ]
  },
  {
   "cell_type": "code",
   "execution_count": 2,
   "id": "6124a55f-7108-435c-ba8e-171c35a83616",
   "metadata": {},
   "outputs": [],
   "source": [
    "merged = pd.read_csv(\"output/responses/final_df.csv\")"
   ]
  },
  {
   "cell_type": "code",
   "execution_count": 3,
   "id": "3f9590f7-3d4b-4cbc-be4a-1d67be3ea883",
   "metadata": {},
   "outputs": [],
   "source": [
    "merged_df = merged.copy()"
   ]
  },
  {
   "cell_type": "code",
   "execution_count": 6,
   "id": "8791dae1-f286-44e7-965e-9ac9f2c90963",
   "metadata": {},
   "outputs": [],
   "source": [
    "merged_df = merged_df.filter(items=['name', 'main_rating',\n",
    "       'address', 'link', 'review_photos', 'cuisine', 'latitude', 'longtitude', 'review_text'])"
   ]
  },
  {
   "cell_type": "code",
   "execution_count": 7,
   "id": "337c69ba-9beb-4bde-8cb4-2d9a01ffba46",
   "metadata": {},
   "outputs": [
    {
     "data": {
      "text/plain": [
       "Index(['name', 'main_rating', 'address', 'link', 'review_photos', 'cuisine',\n",
       "       'latitude', 'longtitude', 'review_text'],\n",
       "      dtype='object')"
      ]
     },
     "execution_count": 7,
     "metadata": {},
     "output_type": "execute_result"
    }
   ],
   "source": [
    "merged_df.columns"
   ]
  },
  {
   "cell_type": "code",
   "execution_count": 8,
   "id": "51f1ab9e-666f-4c57-9472-061868416b6b",
   "metadata": {},
   "outputs": [],
   "source": [
    "combined_reviews = merged_df.groupby(['name', 'main_rating', 'address', 'link', 'review_photos', 'cuisine',\n",
    "       'latitude', 'longtitude'])['review_text'].apply(list).reset_index()"
   ]
  },
  {
   "cell_type": "code",
   "execution_count": 11,
   "id": "a8ff7777-6059-4c73-bd77-2cba5c124b69",
   "metadata": {
    "scrolled": true
   },
   "outputs": [
    {
     "data": {
      "text/plain": [
       "['Absolutely delicious Indian non-veg set with a very generous portion. Service was friendly, fast and efficient. Redeemed a MealPal lunch, super experience here   only restaurant so far with a QR code displayed prominently.',\n",
       " 'The food was much better than I had before.  The curries were less spicy as I expected it to be a little more spicy. The naan I must say is probably one of the best I have had. Thin and chewy with a light crispy finish. Can be very packed during lunch time.',\n",
       " 'Pretty good bistro bar',\n",
       " 'Nice good food and good vibe.',\n",
       " 'Good food, excellent vibe, reasonable prices, friendly service.',\n",
       " 'Had a great evening with friends, friendly staff and tasty food.',\n",
       " 'the Ideal place for a good Indian lunch set in CBD. Value for money and taste.',\n",
       " 'Reasonably priced meals and drinks make it an excellent venue for social gatherings. From 12 p.m. till midnight, happy hours are in effect  To give you an idea of the prices, ,as of March 2024, a pint of Sapporo costs $12, while a double is $20. Enjoying drinks while sitting outside was enjoyable, but the temperature is high and muggy, so ceiling fans and a cooler are needed. Their menu will astound you with the variety of food offered, like burgers, pizza, spaghetti, nan, and other typical Indian food.',\n",
       " 'Great experience, good food, awesome melodies.',\n",
       " 'Vegetarian options: Has a variety of vegetarian options Food',\n",
       " 'Very nice north Indian food. Specially lunch meal',\n",
       " 'Smallish place, a bit crammed seating.Lots of options on the menu and food tastes really good. Service is fast as well!',\n",
       " 'Just food food food to taste to feel better fulfilled Parking: Street parking , plan and reach early Food : 5/5 |',\n",
       " 'Tasty Food, courteous staff, value for money. Highly Recommended. You get Veg or Non-Veg plate for SGD 10, they also serve a number of Indian street food items like chat etc. Vegetarian options: You get Vegetarian plate with roti, Sabzi, Rice with choice of drink, I took Jaljira  which was great!  Vegetable Biryani, with Rayta and Papad is also great.',\n",
       " 'Expensive but tasty',\n",
       " 'Food is very tasty, they serve most of the alcoholic drinks like beer,whisky or wine. Food is good especially Indian',\n",
       " 'I have ordered chicken fried rice here. Food was to the point. Right level of spice and great vibe of boat quay',\n",
       " 'Place to grab the nice naan and chicken masala',\n",
       " 'Best chicken rice ever ate',\n",
       " 'Been here three times to watch IPL playoff and Finals. Food was really good. Have all the Indian snacks and dishes. My favorite is the Paani Poori shots. Must try. Food : 5/5',\n",
       " 'Excellent food and Good service. They also have alcohol options.',\n",
       " 'Always my go to place  for good food and even more good service',\n",
       " 'Nice place and you can enjoy tasty food specially u r indian. Excellent service and hygiene. Food',\n",
       " 'Really good food and reasonably priced drinks. Staff was super friendly too',\n",
       " 'Awesome Beer night and food...',\n",
       " 'Great tasting food with prompt and good service. Nice place for an evening with Friends.',\n",
       " 'Nice place, quality indian food.',\n",
       " 'Great location in vibrant circular road at Boat Quay all with great food, excellent and speedy service, and some good ales!',\n",
       " 'This Restaurant has lots of vegetarian options and cost wise is very reasonable. We tried the Arrabita Pasta and Paneer tikka wrap which was delicious and vast portion size. Met with the owner there who hails for India who gave us Great service on Singapore food options and travelling and shopping. Overall great place to have for lunch, dinner or even for snacks.',\n",
       " 'One of best Bar + restaurants in Boat Quay. The food hygiene, taste and service are excellent and the price seems reasonable considering the high  quality of food and service. One of few places where i never faced disappointment despite visiting quite often. Great work & kudos to the team running and operating the restaurant. Keep up the good work. Vegetarian options: Veggie Nachos, Masala fries, Masala peanut are my favourites',\n",
       " 'Good',\n",
       " 'I believe this is the best Indian restaurant we ever had in Singapore so far. We came here 3 times for the last 3 days before leaving Singapore. I would recommend the chicken tikka masala, roghan gosh, grilled salmon. The staff are super friendly and we don t want to name anyone since all of them served us well.',\n",
       " 'Really nice place to hangout.',\n",
       " 'Great food for the price! He makes sure everyone gets the high quality of food. Love to see someone is enthusiastic about their work quality']"
      ]
     },
     "execution_count": 11,
     "metadata": {},
     "output_type": "execute_result"
    }
   ],
   "source": [
    "combined_reviews.iloc[0]['review_text']"
   ]
  },
  {
   "cell_type": "code",
   "execution_count": 16,
   "id": "59a0e244-6a22-4f4e-af29-04b17805c5a8",
   "metadata": {},
   "outputs": [],
   "source": [
    "result = combined_reviews.to_json(orient=\"records\")\n",
    "parsed = loads(result)"
   ]
  },
  {
   "cell_type": "code",
   "execution_count": 17,
   "id": "6f4867ec-5175-4fc4-bbb9-d3ab3a6fab3c",
   "metadata": {},
   "outputs": [
    {
     "data": {
      "text/plain": [
       "list"
      ]
     },
     "execution_count": 17,
     "metadata": {},
     "output_type": "execute_result"
    }
   ],
   "source": [
    "type(parsed)"
   ]
  },
  {
   "cell_type": "code",
   "execution_count": 19,
   "id": "faf6c7be-7c3d-4e96-b85e-b297cbedd682",
   "metadata": {},
   "outputs": [
    {
     "data": {
      "text/plain": [
       "{'name': 'Bumbu Restaurant',\n",
       " 'main_rating': 4.4,\n",
       " 'address': \"4 Queen's Rd, #02-101, Singapore 260004\",\n",
       " 'link': 'https://www.google.com/maps/place/Bumbu+Restaurant/data=!4m7!3m6!1s0x31da1a0f98b7c04d:0xdd149b2ec5b5fef3!8m2!3d1.319337!4d103.8087819!16s%2Fg%2F1q2vwf15d!19sChIJTcC3mA8a2jER8_61xS6bFN0?authuser=0&hl=en&rclk=1',\n",
       " 'review_photos': \"['https://lh5.googleusercontent.com/p/AF1QipP1oyRUwgjgQGXLQjanPs_rrtLyGH6g7WOM4S_r=w150-h150-k-no-p', 'https://lh5.googleusercontent.com/p/AF1QipNBvdfxwzYce-JDS_ernXraLHRMRbOcTyLgC-Db=w150-h150-k-no-p', 'https://lh5.googleusercontent.com/p/AF1QipN3EEyt9Fu-mJ8U_3RsVfyOiun8DmkRDWuCB21m=w150-h150-k-no-p', 'https://lh5.googleusercontent.com/p/AF1QipOoancTGmrOPiwp0o-GlfQ0Ns5IGGgxriqndtPT=w150-h150-k-no-p', 'https://lh5.googleusercontent.com/p/AF1QipMvZLr7zrYWpn9lOB18OXRq90ofCbvnQJYsUY06=w150-h150-k-no-p', 'https://lh5.googleusercontent.com/p/AF1QipMTRP5taudfhW0W7_SvBv8WenVpePRtcpyHs1s2=w150-h150-k-no-p', 'https://lh5.googleusercontent.com/p/AF1QipNNLBkXNsU7F6RIZ-ixuGG3niLSR9BZO9uik-3B=w150-h150-k-no-p', 'https://lh5.googleusercontent.com/p/AF1QipOL0YpR68vtW2EhxilQCBcgB2NjSdq-mRPk6A82=w150-h150-k-no-p', 'https://lh5.googleusercontent.com/p/AF1QipM0mboiuWhV06VLEF7bnjmb6nweOMUgHlPC3kJt=w150-h150-k-no-p', 'https://lh5.googleusercontent.com/p/AF1QipPB-ENcFMOmT49cJo2L3VHA4-OF0mIS6bAOe5NN=w150-h150-k-no-p', 'https://lh5.googleusercontent.com/p/AF1QipPISDd43VdzKN5R_6T2GaJ5MJsXx8H0WjeA2YWn=w150-h150-k-no-p', 'https://lh5.googleusercontent.com/p/AF1QipO2uNSY3xzp7GyLQfrpeb7uxU2l4Otui0s2ROpL=w150-h150-k-no-p', 'https://lh5.googleusercontent.com/p/AF1QipPQGyhbMx7tsLIiZ8x8n99F5lrjOqRdAcF8xcNu=w150-h150-k-no-p', 'https://lh5.googleusercontent.com/p/AF1QipM00OIJ4oZaG89H6bKdqc4OFREmO32MwFAy3qUb=w150-h150-k-no-p', 'https://lh5.googleusercontent.com/p/AF1QipNLRFvNm3-H7azoolkz-EtYGkT5spS6SkBOCRhd=w150-h150-k-no-p', 'https://lh5.googleusercontent.com/p/AF1QipP1wbdQiTKiYIJFSISX_K6PaA1psXGy6gw5Q0vU=w150-h150-k-no-p', 'https://lh5.googleusercontent.com/p/AF1QipPbEqx6Wq1HXdb3ZJDeal76VnwEpn2LZcIiQW4m=w150-h150-k-no-p', 'https://lh5.googleusercontent.com/p/AF1QipOLYQp3hvSQ7pnBngc7uTjOTZa-dsIZjIIjCqIl=w150-h150-k-no-p', 'https://lh5.googleusercontent.com/p/AF1QipN5En0vFBQv2V3nxWiyBfU1k-jHYbHr8SMS5rtn=w150-h150-k-no-p', 'https://lh5.googleusercontent.com/p/AF1QipPDEoqHf9uv49ONGvGKbDUNx8FNTlA-6rCL-Uxo=w150-h150-k-no-p', 'https://lh5.googleusercontent.com/p/AF1QipMLrYg21KrWHjBl8ygj-Qn8RF7EM27_WxPFFjZ_=w150-h150-k-no-p', 'https://lh5.googleusercontent.com/p/AF1QipNSdBJrHiaCvZ05JZn7F_tdwc0phjKLdoR-XiPq=w150-h150-k-no-p', 'https://lh5.googleusercontent.com/p/AF1QipOduFpKRX9M_QVYl468EodtCy4yJNFWTImeHMvy=w150-h150-k-no-p', 'https://lh5.googleusercontent.com/p/AF1QipOl70bWB-XVXOIpnciFulKX7hqLMT-bROPolwQp=w150-h150-k-no-p', 'https://lh5.googleusercontent.com/p/AF1QipMPqyqUOOr4YuVrSbKEjiKj7RvAp00CQao2nlJs=w150-h150-k-no-p', 'https://lh5.googleusercontent.com/p/AF1QipOUxy5NHnZwe7jNYDvvmzJmEYglnIs7PgnkkwXx=w150-h150-k-no-p', 'https://lh5.googleusercontent.com/p/AF1QipOoW5kwjHN25kXxNFQHirgYOE3mq51ipKhrxFNK=w150-h150-k-no-p', 'https://lh5.googleusercontent.com/p/AF1QipPhPmeMpefm-1ip4igo_O4YofAuXxzQHjMuAcLk=w150-h150-k-no-p', 'https://lh5.googleusercontent.com/p/AF1QipPrp_G9K01AGLQab6EPYIF9Tt8qTENyKF26gWj0=w150-h150-k-no-p', 'https://lh5.googleusercontent.com/p/AF1QipMJ-BULobJEUtKmjUNIUKEocOe55f5kiEYATA3c=w150-h150-k-no-p', 'https://lh5.googleusercontent.com/p/AF1QipME0w8pQs4V2T8MB3I_sy024shZ5uVN_1xoaWJD=w150-h150-k-no-p', 'https://lh5.googleusercontent.com/p/AF1QipNkoJ-0Y2lR0UBkNrM5GeGuuaAQsulxzeqd5uUe=w150-h150-k-no-p', 'https://lh5.googleusercontent.com/p/AF1QipM-hGgo61dIDN5ptAeUdxIAnL9D0CpnCbcqUnkB=w150-h150-k-no-p', 'https://lh5.googleusercontent.com/p/AF1QipNXbw2JQar3LtGp1WXxI7wX4i7OVO09E_HI-gZ5=w150-h150-k-no-p', 'https://lh5.googleusercontent.com/p/AF1QipOa7o0FaIdn8eoVA2Rv479vLZjp94eN4qwRZ4sQ=w150-h150-k-no-p', 'https://lh5.googleusercontent.com/p/AF1QipM-eGfF-MDS2Ttjdku8KF4GeNezmcbr3xBAh90Q=w150-h150-k-no-p', 'https://lh5.googleusercontent.com/p/AF1QipPsrhOP33uZGklEv4Tm4Oo9VEc4YPFm0A2ZE13u=w150-h150-k-no-p', 'https://lh5.googleusercontent.com/p/AF1QipMSRzXTxhOCOLYoV-XPUq7F-OQLjTLGtG0WlA4=w150-h150-k-no-p', 'https://lh5.googleusercontent.com/p/AF1QipPh1YxKpFlXRoxAvbe4Hw1tKhB4w4i0EZ4jkOk=w150-h150-k-no-p', 'https://lh5.googleusercontent.com/p/AF1QipP-eJrWw82l7dDprhh0o-Deq9IUlj9XZI2wXNQ=w150-h150-k-no-p', 'https://lh5.googleusercontent.com/p/AF1QipPPNDZZyHU9hOg7PPGECFMUQkFEzEvK_LBwR7w=w150-h150-k-no-p', 'https://lh5.googleusercontent.com/p/AF1QipPm-rq34brnI1_3iomw3asAXzQtGGhqSQbYMDc=w150-h150-k-no-p', 'https://lh5.googleusercontent.com/p/AF1QipNTnqVkl3kZs_z417FP2kbQPvS2mQ8vu7KJL-E=w150-h150-k-no-p', 'https://lh5.googleusercontent.com/p/AF1QipNCo9xIqj_na-iwUc0U3-bYuTbVigcNRfF3-UM=w150-h150-k-no-p', 'https://lh5.googleusercontent.com/p/AF1QipNBDEzHo_B3fCIRWge0HWjplLMHH4kHflFGGW4=w150-h150-k-no-p', 'https://lh5.googleusercontent.com/p/AF1QipOWaw3EP0Kblq0XCJCjzv5C6-sZX816swgtXlk=w150-h150-k-no-p', 'https://lh5.googleusercontent.com/p/AF1QipP-m1bKmQY22-t_ZdNCaFvxY-JbJYdyAS4x1NVv=w150-h150-k-no-p', 'https://lh5.googleusercontent.com/p/AF1QipO2flRqc1mwxyyMjdsZhGtaym6X4BTwpHYRkwqs=w150-h150-k-no-p', 'https://lh5.googleusercontent.com/p/AF1QipO4zo1EDAuF81o6TtXXz41c_VE_Jnug-RmkulYK=w150-h150-k-no-p', 'https://lh5.googleusercontent.com/p/AF1QipMvXb0QZicmdcJ3OTXLfKr0ZJVRB2hTc210aGIb=w150-h150-k-no-p', 'https://lh5.googleusercontent.com/p/AF1QipOoAbXaDHdkECHujl4oNx0yUPS1tVfF5-NLY4ob=w150-h150-k-no-p', 'https://lh5.googleusercontent.com/p/AF1QipNtUfuqEYpdXYgjHIIrtyNVkVJjV9hzb4QYAkYp=w150-h150-k-no-p', 'https://lh5.googleusercontent.com/p/AF1QipNEMlvKK5A4HHTLkuE2xF6WPVWgy72cknb8bjk8=w150-h150-k-no-p', 'https://lh5.googleusercontent.com/p/AF1QipPCRw_MjPMml9dMn9DPRzmpgomslPygpI-IRmJs=w150-h150-k-no-p', 'https://lh5.googleusercontent.com/p/AF1QipNqgWHKsGBKvSmS3Vo490_HT0tAKGS9u96-kAQb=w150-h150-k-no-p', 'https://lh5.googleusercontent.com/p/AF1QipMDyE0BEMXvu0u8lyAumZsAHfErHT3oDdD48F14=w150-h150-k-no-p']\",\n",
       " 'cuisine': 'Indonesian',\n",
       " 'latitude': 1.319337,\n",
       " 'longtitude': 103.8087819,\n",
       " 'review_text': ['My second time here. The first was with a few of my friends. This time I visited with my Mrs. The food, service and ambience is still consistently great. We enjoyed the food as before. The service staff are always present, taking care of patrons, the manager is always making sure everyone and everything is taken care of. Loved the old school furniture and deco. Even when its full during peak hours, you dont feel it. Ample space between tables.',\n",
       "  'Avocado drink - tasteless Green curry chicken - meat was tough, seemed like cooked from frozen chicken though restaurant said they used fresh chicken Vegetables - overcooked Feedback to restaurant and got the wrong idea they would compensate dessert for the above, but was asked to pay for the dessert still. It is alright if the dessert tasted good but they were still disappointing. Kueh dadar - $3 per roll which is at an exorbitant price. They kept selling the point their kueh dadar is handmade but they were terribly made. Skin is tasteless and thin, fillings are mediocre as well. Mango sticky rice - the best part about this dish was mango and nothing else. Waiting time was extremely long, service was substandard. Overall a negative experience.',\n",
       "  'Authentic rendang, chendol, and sambal sweet potato leaves fry',\n",
       "  'Best',\n",
       "  '22 June 2024 Another visit with another set of foodie friends. Restaurant has a new edited menu. This time we had good desserts in kueh selat and kueh dada, chendol with durian. ==== A good friend introduced this place to me and we decided to visit and have Sat lunch with another group of makan kakis. The food is very good. The highlight was the deep fried kangkong salad (it is like tempura kang kong)  Staff are all friendly, patients and attentive.  We want to come back again soon.',\n",
       "  'Cozy and homey Thai-Indo restaurant, spoilt for choice on what to order. Food served up quickly upon ordering and they were all tasty.',\n",
       "  'Interesting concept, food wise, it can be better.  I was disappointed with the buah keluak dish as it was very blend. Service staff was too busy and didnt really attend to our request, even after multiple reminders. Otherwise, the atmosphere and deco is good.',\n",
       "  'I have been to this establishment countless number of times and I have never failed to order their signature dish namely Beef Rendang during every patronage. Recently, I brought my overseas guest there ( specially to try their Beef Rendang ). Unfortunately, we were totally disappointed with their super lousy beef rendang. It was absolutely unsavoury and watery. In short, totally different from what it used to be. I would lament that any Nasi Padang stall in Singapore will be able to prepare a far better Beef Rendang than what I have tasted from Babu ( Queen Road branch ) that evening. I spoke to staff immediately and he took the Beef Rendang back into the kitchen. Several minutes later, they return and indicated that they will give us a new serving. Sadly, it was 100%  untrue because they merely removed the excess water from the lousy plate of Beef Rendang and change the plate. The lousy taste of their Beef Rendang remains the same, except that it was less watery. Really very unethical and indeed a scammer. This dish should no longer be branded as their signature dish. Probably, the original chef has left. Look at the photo and see how watery it was. Eat your own risk.',\n",
       "  'Nice ambience. A surprise find. Price is reasonable. 2nd visit. I cant find their crsipy kangkung seem to update their menu but it is still  nice. Their desserts also great. Try their kuih salat seem fresh and creamy yet firm.',\n",
       "  'This Thai-Indonesian restaurant is situated on the 2nd floor of a HDB block. Ample parking. The place is filled with antique cabinets and wood screen. The food is good. Small portion though. So likely you will order a second round. I love the tahu-telor and the beef rendang. Not spicy at all. So kids will love it too!',\n",
       "  'Desserts was quite disappointing. Tahu Telor and buakualak are very good',\n",
       "  'Echo noise is my only complaint. Food is amazing with a Thai Indonesian prana kan feel. Service and staff are excellent. Kids friendly. Suitable for dinner dates. Vegetarian options: Lots of amazing vegetarian options Kid-friendliness: Exciting crispy soft food for toddlers',\n",
       "  'Went on a saturday afternoon and its quiet and low crowd. The staff are very patient when ordering. The setting of the place is very interesting, its filled with antique. Food was great! The beef rendung is very well cooked, meat was soft and tasty. The fried mee sua has a unique flavour. It comes with generous amount of seafood, vegetable and mushroom. The tomyum soup might looks spicy but its actually very creamy and filled with loads of seafood flavour. Its nice and quiet place to have meal with your friends and family!',\n",
       "  'Not very tasty food. Very decorated inside and slow service.',\n",
       "  'Food is good. The restaurant has Interesting antique decor. Its like visiting a museum.',\n",
       "  'Excellent food',\n",
       "  'Nice try and everything is perfect. Will come back again for more cuisines. Food',\n",
       "  'Very happy that they went out of their way to prepare extra vegetarian dishes not on the menu for our vegetarian friends. Very very yummy too! Nice place to hang out and chit chat with friends. Feels very homey',\n",
       "  'Third time eating at Bumbu and so far, all the dishes Ive tried were superb. Will definitely come back for more crispy kangkong, assam prawns, and tom yum. Do ask if they have the keuh salat (off-menu). I dont usually enjoy nonya delicacies but this one made me a fan.',\n",
       "  'Good dining experience.',\n",
       "  'Ordered the crispy kang kong, prawn and rendang. ALL GOOD. Loved their take on peranakan food.',\n",
       "  'Spacious restaurant. Wide variety of food selection, friendly staff. Halal and has a small praying corner. Food : 5/5',\n",
       "  'Tasty, cultural and good service all in one. Do visit this gem of a restaurant serving amazing thai-indo fusion dishes',\n",
       "  'Located in a quiet Farrer HDB enclave, this is one unique restaurant where you are surrounded with a traditional mix of  Peranakan and Indonesian antiques and collectibles. The cuisine is a mix of Indonesian and Thai. Their crispy Kang Kong salad and beef rendang are a must order. Tau Hu telor is decent, but is a modified version of the real dish, taste wise, it s still ok. We like their squid in black sauce too. Don t forget to ask for their sambal chilli, it s an excellent dip for the prawn crackers. Disappointed with Chap chai though, which had no flavour at all. Suggest that they relook at the ingredients used for this dish, as it can easily be improved. Service is friendly and fast and overall we had a good family dinner.',\n",
       "  'Good food, friendly attentive staff. The place is quite uniquely decorated.',\n",
       "  'Have always wanted to go Queen s Road area to try the restaurants at the HDB blocks. Chosen Bumbu to start off and didn t disappoint. Most of the dishes like fried Kangkong salad, beef rendang, tauhu telor and sambal Kang Kang where wiped out quickly. Surprisingly my nephew loved the ayam buar keluah that all the sauces were drizzled on the rice The so so dishes are the squid dish and mixed vegetables. We had the durian and signature chendols, which we find the durian is too little and some essential ingredients in Chendol mussing, only good that its not too sweet. Serving mostly are suitable for 2-3 pax for 1 dish, so if you have bigger group may have to order double portion. Service is great and the restaurant well decorated with antique furnishings and accessories. Very lovely place to dine with family and friends. Will definitely come back again.',\n",
       "  'Hidden gem. All the food we ordered was superb. Rendang 10/10 Tahu telur 8/10 (only because i dont like sweet soya sauce) Coffee chicken 9/10 Pineapple fried rice 10/10 (comes with raisin) Olive fried rice 10/10 Broccolli with crab meat 10/10',\n",
       "  'Nice concept, Thai-Indonesian cuisine. Tried once. May come back again if i have the crave. Honestly, for the price and serving portions, there is no justice. I wont recommend unless you just want to satisfy your craving. The decor is nice though. Set in a quiet neighbourhood. Feels more like a restaurant than a HDB shophouse. Parking: Not so wheelchair friendly cos I could not find a lift down to the carpark. I had to crawl myself up to the 2nd floor.',\n",
       "  'Set in an idyllic and nostalgic location with old housing estate, this Makan is a gem. There are many antiques furniture for view. You will feel like eating with a cool ambience. Great place to bring your guests. The best food fusion Indo and Thais like those recommended crispy Kang Kong salad, coffee chicken, Tahu telur. Do ask for special dessert not in menu. You may find a surprise sweet ending. For those driving, plenty of parking downstairs. Parking: HDB parking',\n",
       "  'Amazing restaurant! It is advertised Thai and Indonesian food and they had tons of amazing Peranakan dishes too with very rare recipes that are the most delicious we tasted in Singapore so far. It is very affordable and taste better than some Michelin star restaurants we went. The decoration is super old school peranakan collector. It feels like 60 years ago in Singapore and located in a friendly HDB. We totally loved it and will come back. There is not one dish that wasnt sensational. True gem! We need more of these wonderful restaurants in Singapore. They dont serve alcohol as it is halal but they have great juices and teas. ps: the prawn crackers on each table are the best! Kid-friendliness: Every table was filled with local family with kids on Friday night.',\n",
       "  'Authentic beef rendang endorsed by an indo Chinese',\n",
       "  'Long lost love found! The deco is really nice, and the food is as good as I remembered it. Tahu telur is my favorite.  Service is very good. Will be coming back often to this hidden gem.',\n",
       "  'Excellent Thai/indo dishes to share Staff are always cheerful and accomodating Cosy ambience with lots of antiques and fish tanks on display Unique and hidden gem to bring your family to. Highlights included the fried Kang Kong salad, cereal soft shell crab and sambal chilli. Do not forget to end the meal with their delicious chendol',\n",
       "  'dont amat dont',\n",
       "  'wife bought 4pax dinner @ bumbu queen s road place recommended by jessie crispy kang kong tasty & unique refreshing I like leong ji s crispy kang kong rojak better though as that more interesting & texture beef rendang not the usual gravy, more nuanced and interesting flavour & after taste buah keluak very good..excellent gravy & chicken was sweet & tender..I took both keluak as the others don t fancy tauhu telor very good..which usually is also in other restaurants black sauce sotong tasted more soy sauce than squidink don t quite have the chalky very unique flavourful taste so maybe quite dilute if squidink at all still a nice dish but without the squidink flavour I rather have sambal the chendol was excellent very flavourful gula melaka  coconut milk just missing the kidney beans ..  red beans never a substitute ..one of the best chendol (the green one) I had usually harder this one very great texture. ambience was wonderful..all the nice cabinets, mosaic plagues & bamboo containers overall a very nice dinner evening with good friends',\n",
       "  'Very good Nyonya cuisine with very peranakan feel atmosphere. Staff are friendly. Totally enjoyed the dinner gathering with good friends.',\n",
       "  'Hearty food, Beautiful decor and most importantly friendly and attentive service staff. Will be back!',\n",
       "  'Food too sweet.',\n",
       "  'Great peranakan cuisine!',\n",
       "  'Tasty and affordable food served in a homelike setting family restaurant. Certainly a Jem in the area!',\n",
       "  'Friendly service, very nice atmosphere, vegan options.',\n",
       "  'They serve the best Cryspy Kankong EVER!',\n",
       "  'They offer vegetarian options and even offered some mock meats along the dishes. Portion is pretty huge too! Totally would recommended!',\n",
       "  'One of a kind, authentic, filled with antique, or relics of indon design  and tasty thai and indon food',\n",
       "  'Coffee chicken is awesome',\n",
       "  'Went on a late night. Despite that, staff were welcoming, warm and friendly. Food was also flavourful and delicious. Had a nice, cosy time.',\n",
       "  'Nice ambience, food is nice Reasonably priced. Portion just nice. Recommend to come have try. Chendol is really good.',\n",
       "  'Food is good. No regrets. Chendol is top notch.',\n",
       "  'Portion for every dish is small. You cannot tell which cuisine it is. The name of the dish looks Thai or Malaysia, but taste not authentic Thai food or Malaysia at all. Ordered Prawn cake, Tom Yum, Ren Dang beef, nothing is authentic quite disappointing.',\n",
       "  'A hidden gem with lots of character n most importantly, warm hospitality/waiter n tasty food!',\n",
       "  'We visited as a party of 8 pax for dinner. There was ample seating, service was warm and friendly, and most importantly, the food was amazing! Highly recommend for family get togethers. Portions are family sized and affordable. We ordered almost half the menu and these are their must try dishes: - Crispy kang kong salad - Ngoh hiang - Prawn cake - Buah keluak chicken - Squid with black sauce - Tahu telur - Olive rice Basically every dish was good, even those that weren t mentioned. Can t wait to come back again!',\n",
       "  'Way cosier and quieter than their City outlet, Bumbu @ Farrer is beautifully decorated with Oriental/ Asian antiques and furnishings.  Delicious food with have their own signature taste to every dish, you KNOW you are dining at Bumbu once you begin tucking in into their food. Impeccable and attentive service from the staffs too. Really friendly. And the best thing is, their service and quality have always been consistent since they started here.',\n",
       "  'I love this place because it serves one of the best Tom yum in SG. Their peranakan dish buah keluak is a unique experience... The content of the fruit is best eaten with the Ayam. The udang asam is lovely but a bit on the pricey side. Been here several times. The food is generally delicious but the Tom yum is my favourite.',\n",
       "  'Our first visit to this restaurant, a feast for our eyes in this beautifully antiques furnishings restaurant. The chapchai and the tomyam was deliciously rich. Simply tasty with steamed rice',\n",
       "  'Love the food here',\n",
       "  'Bumbu is a perfect place to discover and eat info food. The place is nice inside and seats are available outside. Nice price, nice waitresses, nice food. Perfect for a long nch or a dinner.',\n",
       "  'Came here for our advance reunion dinner and it certainly did not disappoint! This little gem hidden away at farrer road was an awesome restaurant that serves halal Indo Thai dishes. The store decorations, service and food were amazing. Decent pricing for the amount of portions received. As we didnt make an advance reservation for Lou hei (A must have Traditional CNY Dish). The boss and his staff went an extra mile to make us one. Though its different, it makes a huge difference to the entire meal. Thank you to all of you at Bumbu restaurant for the amazing experience! We will definitely be back when I return. Plenty of parking space located below the restaurant. Highly recommended',\n",
       "  'Amazing food! Had the beef rendang, green curry and sambal brinjal',\n",
       "  'Delicious menu. Friendly staff. Museum-like interior. Reasonable prices. Must Try.',\n",
       "  'Foods are delicious,, but prices abit expensive.',\n",
       "  'I was satisfied with the delicious restaurant course.',\n",
       "  'Quite nice tastes I d say. Portion is tiny',\n",
       "  'The food is really good, plus it is halal!',\n",
       "  'The best meal I had for a long time. Service is good and prompt.  Must order  dishes are pan fried assam prawns, crispy fried kang kong, tahu telor and durian chendol. Green curry chicken a tad too sweet.  Steamed sea bass in soy sauce is good. This is their Blk 4 Queen s Road eatery. Will return to try other items in the menu at their No:44 Kandahar Street outlet. Good for groups and family.',\n",
       "  'Good food and dessert',\n",
       "  '22 June 2024 Another visit with another set of foodie friends. Restaurant has a new edited menu. This time we had good desserts in kueh selat and kueh dada, chendol with durian. ==== A good friend introduced this place to me and we decided to visit and have Sat lunch with another group of makan kakis. The food is very good. The highlight was the deep fried kangkong salad (it is like tempura kang kong)  Staff are all friendly, patients and attentive.  We want to come back again soon.']}"
      ]
     },
     "execution_count": 19,
     "metadata": {},
     "output_type": "execute_result"
    }
   ],
   "source": [
    "parsed[300]"
   ]
  },
  {
   "cell_type": "code",
   "execution_count": 23,
   "id": "04d18725-f1cf-4c04-bc36-f1235897accf",
   "metadata": {},
   "outputs": [],
   "source": [
    "with open('test.json', 'w', encoding='utf-8') as file:\n",
    "    json.dump(parsed, file, indent = 4)\n",
    "    "
   ]
  },
  {
   "cell_type": "code",
   "execution_count": null,
   "id": "0e42945c-c1c6-4772-949e-a6c2cf30db95",
   "metadata": {},
   "outputs": [],
   "source": []
  }
 ],
 "metadata": {
  "kernelspec": {
   "display_name": "Python 3 (ipykernel)",
   "language": "python",
   "name": "python3"
  },
  "language_info": {
   "codemirror_mode": {
    "name": "ipython",
    "version": 3
   },
   "file_extension": ".py",
   "mimetype": "text/x-python",
   "name": "python",
   "nbconvert_exporter": "python",
   "pygments_lexer": "ipython3",
   "version": "3.10.6"
  }
 },
 "nbformat": 4,
 "nbformat_minor": 5
}
