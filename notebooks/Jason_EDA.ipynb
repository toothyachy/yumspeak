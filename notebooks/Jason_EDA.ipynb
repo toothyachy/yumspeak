{
 "cells": [
  {
   "cell_type": "code",
   "execution_count": 3,
   "metadata": {},
   "outputs": [],
   "source": [
    "import pandas as pd\n",
    "import numpy as np\n"
   ]
  },
  {
   "cell_type": "markdown",
   "metadata": {},
   "source": [
    "1. Remove dulicapte resturant with same address \n",
    "2. Remove column type with 'Hawker centre'\n",
    "3. Remove none resturant type in 'Resturant Name'\n",
    "4. Remove address with \"Singapore\"\n",
    "5. Swap those 'address' with 'Price Range'"
   ]
  },
  {
   "cell_type": "code",
   "execution_count": 5,
   "metadata": {},
   "outputs": [
    {
     "data": {
      "text/html": [
       "<div>\n",
       "<style scoped>\n",
       "    .dataframe tbody tr th:only-of-type {\n",
       "        vertical-align: middle;\n",
       "    }\n",
       "\n",
       "    .dataframe tbody tr th {\n",
       "        vertical-align: top;\n",
       "    }\n",
       "\n",
       "    .dataframe thead th {\n",
       "        text-align: right;\n",
       "    }\n",
       "</style>\n",
       "<table border=\"1\" class=\"dataframe\">\n",
       "  <thead>\n",
       "    <tr style=\"text-align: right;\">\n",
       "      <th></th>\n",
       "      <th>Restaurant Name</th>\n",
       "      <th>Type</th>\n",
       "      <th>Ratings</th>\n",
       "      <th>Number of Reviews</th>\n",
       "      <th>Price Range</th>\n",
       "      <th>Address</th>\n",
       "      <th>Opening Timing</th>\n",
       "      <th>Open now?</th>\n",
       "      <th>Reviews</th>\n",
       "      <th>Key Word 1</th>\n",
       "      <th>Key Word 2</th>\n",
       "    </tr>\n",
       "  </thead>\n",
       "  <tbody>\n",
       "    <tr>\n",
       "      <th>0</th>\n",
       "      <td>Restaurant Ibid</td>\n",
       "      <td>Asian Fusion</td>\n",
       "      <td>4.9</td>\n",
       "      <td>(788)</td>\n",
       "      <td>$100+</td>\n",
       "      <td>18 N Canal Rd</td>\n",
       "      <td>Opens 6:30 pm</td>\n",
       "      <td>Closed</td>\n",
       "      <td>\"The  was creative, refine, delicious and well...</td>\n",
       "      <td>food</td>\n",
       "      <td>NaN</td>\n",
       "    </tr>\n",
       "    <tr>\n",
       "      <th>1</th>\n",
       "      <td>Cherki</td>\n",
       "      <td>Restaurant</td>\n",
       "      <td>4.5</td>\n",
       "      <td>(638)</td>\n",
       "      <td>$20–40</td>\n",
       "      <td>1 Straits Blvd, #01-02</td>\n",
       "      <td>Opens 12 pm</td>\n",
       "      <td>Closed</td>\n",
       "      <td>\"Wide selection of cocktails, tasty  dishes an...</td>\n",
       "      <td>fusion</td>\n",
       "      <td>NaN</td>\n",
       "    </tr>\n",
       "    <tr>\n",
       "      <th>2</th>\n",
       "      <td>The Dragon Chamber</td>\n",
       "      <td>Restaurant</td>\n",
       "      <td>4.4</td>\n",
       "      <td>(781)</td>\n",
       "      <td>$$</td>\n",
       "      <td>2 Circular Rd</td>\n",
       "      <td>NaN</td>\n",
       "      <td>NaN</td>\n",
       "      <td>\"The flavors are bold and innovative, and the ...</td>\n",
       "      <td>NaN</td>\n",
       "      <td>NaN</td>\n",
       "    </tr>\n",
       "    <tr>\n",
       "      <th>3</th>\n",
       "      <td>Xiao Ya Tou</td>\n",
       "      <td>Chinese</td>\n",
       "      <td>4.4</td>\n",
       "      <td>(642)</td>\n",
       "      <td>$$$</td>\n",
       "      <td>6 Duxton Hill, #01-01</td>\n",
       "      <td>11:30 am</td>\n",
       "      <td>Opens soon</td>\n",
       "      <td>\"Nice  with a very quirky and retro decor.\"</td>\n",
       "      <td>fusion restaurant</td>\n",
       "      <td>NaN</td>\n",
       "    </tr>\n",
       "    <tr>\n",
       "      <th>4</th>\n",
       "      <td>URESHII(WAGYU SUKIYAKI &amp; ABALONE)</td>\n",
       "      <td>Japanese</td>\n",
       "      <td>4.6</td>\n",
       "      <td>(94)</td>\n",
       "      <td>Opens 11:50 am</td>\n",
       "      <td>Singapore</td>\n",
       "      <td>NaN</td>\n",
       "      <td>Closed</td>\n",
       "      <td>\"This is a Korean Japanese  with amazing sake ...</td>\n",
       "      <td>fusion restaurant</td>\n",
       "      <td>NaN</td>\n",
       "    </tr>\n",
       "  </tbody>\n",
       "</table>\n",
       "</div>"
      ],
      "text/plain": [
       "                     Restaurant Name             Type  Ratings  \\\n",
       "0                    Restaurant Ibid     Asian Fusion      4.9   \n",
       "1                             Cherki       Restaurant      4.5   \n",
       "2                 The Dragon Chamber       Restaurant      4.4   \n",
       "3                        Xiao Ya Tou          Chinese      4.4   \n",
       "4  URESHII(WAGYU SUKIYAKI & ABALONE)         Japanese      4.6   \n",
       "\n",
       "  Number of Reviews      Price Range                 Address  Opening Timing  \\\n",
       "0             (788)            $100+           18 N Canal Rd   Opens 6:30 pm   \n",
       "1             (638)           $20–40  1 Straits Blvd, #01-02     Opens 12 pm   \n",
       "2             (781)               $$           2 Circular Rd             NaN   \n",
       "3             (642)              $$$   6 Duxton Hill, #01-01        11:30 am   \n",
       "4              (94)   Opens 11:50 am               Singapore             NaN   \n",
       "\n",
       "    Open now?                                            Reviews  \\\n",
       "0      Closed  \"The  was creative, refine, delicious and well...   \n",
       "1      Closed  \"Wide selection of cocktails, tasty  dishes an...   \n",
       "2         NaN  \"The flavors are bold and innovative, and the ...   \n",
       "3  Opens soon        \"Nice  with a very quirky and retro decor.\"   \n",
       "4      Closed  \"This is a Korean Japanese  with amazing sake ...   \n",
       "\n",
       "          Key Word 1 Key Word 2  \n",
       "0               food        NaN  \n",
       "1             fusion        NaN  \n",
       "2                NaN        NaN  \n",
       "3  fusion restaurant        NaN  \n",
       "4  fusion restaurant        NaN  "
      ]
     },
     "execution_count": 5,
     "metadata": {},
     "output_type": "execute_result"
    }
   ],
   "source": [
    "target_df = pd.read_csv('../data/cleaned_data_sgr.csv')\n",
    "target_df.head()"
   ]
  },
  {
   "cell_type": "code",
   "execution_count": 42,
   "metadata": {},
   "outputs": [
    {
     "data": {
      "text/plain": [
       "<bound method IndexOpsMixin.value_counts of 0       True\n",
       "1       True\n",
       "2       True\n",
       "3       True\n",
       "4       True\n",
       "        ... \n",
       "4586    True\n",
       "4587    True\n",
       "4588    True\n",
       "4589    True\n",
       "4590    True\n",
       "Name: Address, Length: 4591, dtype: object>"
      ]
     },
     "execution_count": 42,
     "metadata": {},
     "output_type": "execute_result"
    }
   ],
   "source": [
    "# target_df[target_df['Price Range'].str.len() > 5].value_counts()\n",
    "\n",
    "target_df['Address'].str.contains('$').value_counts"
   ]
  },
  {
   "cell_type": "code",
   "execution_count": 32,
   "metadata": {},
   "outputs": [
    {
     "data": {
      "text/html": [
       "<div>\n",
       "<style scoped>\n",
       "    .dataframe tbody tr th:only-of-type {\n",
       "        vertical-align: middle;\n",
       "    }\n",
       "\n",
       "    .dataframe tbody tr th {\n",
       "        vertical-align: top;\n",
       "    }\n",
       "\n",
       "    .dataframe thead th {\n",
       "        text-align: right;\n",
       "    }\n",
       "</style>\n",
       "<table border=\"1\" class=\"dataframe\">\n",
       "  <thead>\n",
       "    <tr style=\"text-align: right;\">\n",
       "      <th></th>\n",
       "      <th>Restaurant Name</th>\n",
       "      <th>Type</th>\n",
       "      <th>Ratings</th>\n",
       "      <th>Number of Reviews</th>\n",
       "      <th>Price Range</th>\n",
       "      <th>Address</th>\n",
       "      <th>Opening Timing</th>\n",
       "      <th>Open now?</th>\n",
       "      <th>Reviews</th>\n",
       "      <th>Key Word 1</th>\n",
       "      <th>Key Word 2</th>\n",
       "    </tr>\n",
       "  </thead>\n",
       "  <tbody>\n",
       "    <tr>\n",
       "      <th>0</th>\n",
       "      <td>Restaurant Ibid</td>\n",
       "      <td>Asian Fusion</td>\n",
       "      <td>4.9</td>\n",
       "      <td>(788)</td>\n",
       "      <td>$100+</td>\n",
       "      <td>18 N Canal Rd</td>\n",
       "      <td>Opens 6:30 pm</td>\n",
       "      <td>Closed</td>\n",
       "      <td>\"The  was creative, refine, delicious and well...</td>\n",
       "      <td>food</td>\n",
       "      <td>NaN</td>\n",
       "    </tr>\n",
       "    <tr>\n",
       "      <th>1</th>\n",
       "      <td>Cherki</td>\n",
       "      <td>Restaurant</td>\n",
       "      <td>4.5</td>\n",
       "      <td>(638)</td>\n",
       "      <td>$20–40</td>\n",
       "      <td>1 Straits Blvd, #01-02</td>\n",
       "      <td>Opens 12 pm</td>\n",
       "      <td>Closed</td>\n",
       "      <td>\"Wide selection of cocktails, tasty  dishes an...</td>\n",
       "      <td>fusion</td>\n",
       "      <td>NaN</td>\n",
       "    </tr>\n",
       "  </tbody>\n",
       "</table>\n",
       "</div>"
      ],
      "text/plain": [
       "   Restaurant Name             Type  Ratings Number of Reviews Price Range  \\\n",
       "0  Restaurant Ibid     Asian Fusion      4.9             (788)       $100+   \n",
       "1           Cherki       Restaurant      4.5             (638)      $20–40   \n",
       "\n",
       "                  Address  Opening Timing Open now?  \\\n",
       "0           18 N Canal Rd   Opens 6:30 pm    Closed   \n",
       "1  1 Straits Blvd, #01-02     Opens 12 pm    Closed   \n",
       "\n",
       "                                             Reviews Key Word 1 Key Word 2  \n",
       "0  \"The  was creative, refine, delicious and well...       food        NaN  \n",
       "1  \"Wide selection of cocktails, tasty  dishes an...     fusion        NaN  "
      ]
     },
     "execution_count": 32,
     "metadata": {},
     "output_type": "execute_result"
    }
   ],
   "source": [
    "target_df.head(2)"
   ]
  },
  {
   "cell_type": "code",
   "execution_count": 34,
   "metadata": {},
   "outputs": [
    {
     "data": {
      "text/plain": [
       "Index([True], dtype='object')"
      ]
     },
     "execution_count": 34,
     "metadata": {},
     "output_type": "execute_result"
    }
   ],
   "source": [
    "target_df['Address'].str.contains('$').value_counts().index\n",
    "\n",
    "# target_df.iloc[0]"
   ]
  },
  {
   "cell_type": "code",
   "execution_count": null,
   "metadata": {},
   "outputs": [],
   "source": []
  }
 ],
 "metadata": {
  "kernelspec": {
   "display_name": "yumspeak",
   "language": "python",
   "name": "python3"
  },
  "language_info": {
   "codemirror_mode": {
    "name": "ipython",
    "version": 3
   },
   "file_extension": ".py",
   "mimetype": "text/x-python",
   "name": "python",
   "nbconvert_exporter": "python",
   "pygments_lexer": "ipython3",
   "version": "3.10.6"
  }
 },
 "nbformat": 4,
 "nbformat_minor": 2
}
