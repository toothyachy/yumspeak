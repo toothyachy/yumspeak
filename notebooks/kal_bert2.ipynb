{
 "cells": [
  {
   "cell_type": "code",
   "execution_count": 2,
   "id": "ebdacef0-f830-4839-b19d-d440aeb6544b",
   "metadata": {},
   "outputs": [
    {
     "name": "stderr",
     "output_type": "stream",
     "text": [
      "/Users/spacemunkei/.pyenv/versions/yumspeakenv/lib/python3.10/site-packages/sentence_transformers/cross_encoder/CrossEncoder.py:11: TqdmExperimentalWarning: Using `tqdm.autonotebook.tqdm` in notebook mode. Use `tqdm.tqdm` instead to force console mode (e.g. in jupyter console)\n",
      "  from tqdm.autonotebook import tqdm, trange\n"
     ]
    }
   ],
   "source": [
    "import pandas as pd\n",
    "import numpy as np\n",
    "from sentence_transformers import SentenceTransformer, util"
   ]
  },
  {
   "cell_type": "code",
   "execution_count": 4,
   "id": "f3be3f9f-eaf1-406d-988e-72832548db7b",
   "metadata": {},
   "outputs": [
    {
     "data": {
      "application/vnd.jupyter.widget-view+json": {
       "model_id": "f035c84f19cc4de393cc645ffc01d981",
       "version_major": 2,
       "version_minor": 0
      },
      "text/plain": [
       "model.safetensors:   0%|          | 0.00/90.9M [00:00<?, ?B/s]"
      ]
     },
     "metadata": {},
     "output_type": "display_data"
    },
    {
     "name": "stderr",
     "output_type": "stream",
     "text": [
      "/Users/spacemunkei/.pyenv/versions/yumspeakenv/lib/python3.10/site-packages/transformers/tokenization_utils_base.py:1601: FutureWarning: `clean_up_tokenization_spaces` was not set. It will be set to `True` by default. This behavior will be depracted in transformers v4.45, and will be then set to `False` by default. For more details check this issue: https://github.com/huggingface/transformers/issues/31884\n",
      "  warnings.warn(\n"
     ]
    }
   ],
   "source": [
    "# Initialize the BERT model\n",
    "model = SentenceTransformer('all-MiniLM-L6-v2')"
   ]
  },
  {
   "cell_type": "code",
   "execution_count": 13,
   "id": "d6d5b7e3-b256-4ff9-acf6-d44dfc4fd303",
   "metadata": {},
   "outputs": [],
   "source": [
    "merged_df = pd.read_csv('output/responses/merged_dataset.csv', low_memory=False)\n",
    "restaurants_and_reviews = merged_df.copy()"
   ]
  },
  {
   "cell_type": "code",
   "execution_count": 14,
   "id": "36a50243-efd5-4409-9fc3-a4940c335230",
   "metadata": {},
   "outputs": [],
   "source": [
    "restaurant_reviews = restaurants_and_reviews.filter(items=['place_id', 'name', 'review_text', 'main_rating',\n",
    "       'address', 'link', 'review_photos', 'cuisine', 'latitude', 'longtitude'])"
   ]
  },
  {
   "cell_type": "code",
   "execution_count": 15,
   "id": "9c2e0d34-39ca-4cc5-b917-8096acfe3aa9",
   "metadata": {},
   "outputs": [
    {
     "data": {
      "text/plain": [
       "0                                               Food is Wow\n",
       "1         I always stay at the Grand Copthorne Waterfron...\n",
       "2         My family and I had a gathering at Red House S...\n",
       "3         Celebrated my MIL 70th birthday and pre-coordi...\n",
       "4         Had a wonderful dinner here tonight. The highl...\n",
       "                                ...                        \n",
       "619625    Almost 2 hours waiting time, order taken at 6....\n",
       "619626    2nd time trying the fish head steamboat. Its t...\n",
       "619627    The food here is most excellent and the servic...\n",
       "619628    reserved in advance so wait wasnt long. added ...\n",
       "619629    Tucked away in this industrial estate is a coa...\n",
       "Name: review_text, Length: 619630, dtype: object"
      ]
     },
     "execution_count": 15,
     "metadata": {},
     "output_type": "execute_result"
    }
   ],
   "source": [
    "restaurant_reviews['review_text']"
   ]
  },
  {
   "cell_type": "code",
   "execution_count": 20,
   "id": "c4e6496f-7175-4974-a9e9-284a49cf0e15",
   "metadata": {},
   "outputs": [],
   "source": [
    "combined_reviews = restaurant_reviews.groupby(['name', 'latitude', 'longtitude'])['review_text'].apply(list).reset_index()"
   ]
  },
  {
   "cell_type": "code",
   "execution_count": null,
   "id": "65c86557-e5cb-47da-b68b-e4da962e0f2f",
   "metadata": {},
   "outputs": [],
   "source": [
    "# Encode the review texts into BERT embeddings\n",
    "review_embeddings = model.encode(combined_reviews['review_text'].tolist(), convert_to_tensor=True)"
   ]
  },
  {
   "cell_type": "code",
   "execution_count": null,
   "id": "788a8120-1e7d-4525-b764-30d7d85f8896",
   "metadata": {},
   "outputs": [],
   "source": [
    "# Input keywords\n",
    "input_keywords = 'spicy butter chicken'"
   ]
  },
  {
   "cell_type": "code",
   "execution_count": null,
   "id": "381e8007-8748-4f14-97c8-db0336eae076",
   "metadata": {},
   "outputs": [],
   "source": [
    "# Encode the input keywords into BERT embeddings\n",
    "keyword_embedding = model.encode(input_keywords, convert_to_tensor=True)\n",
    "keyword_embedding"
   ]
  },
  {
   "cell_type": "code",
   "execution_count": null,
   "id": "57d66c4d-a57a-43b0-9992-bd713ea3e0ae",
   "metadata": {},
   "outputs": [],
   "source": [
    "# Compute cosine similarities between the keyword embedding and each review embedding\n",
    "cosine_scores = util.pytorch_cos_sim(keyword_embedding, review_embeddings)[0]"
   ]
  },
  {
   "cell_type": "code",
   "execution_count": null,
   "id": "d7281160-96e2-41d4-837c-dd0331d2cf00",
   "metadata": {},
   "outputs": [],
   "source": [
    "# Move tensor to CPU and convert to NumPy array\n",
    "cosine_scores_cpu = cosine_scores.cpu().numpy()"
   ]
  },
  {
   "cell_type": "code",
   "execution_count": null,
   "id": "8f552fc9-01f6-4421-971a-ce9125da89ab",
   "metadata": {},
   "outputs": [],
   "source": [
    "# Get the top 5 most similar reviews\n",
    "top_5_indices = np.argsort(cosine_scores_cpu)[-5:][::-1]"
   ]
  },
  {
   "cell_type": "code",
   "execution_count": null,
   "id": "27e24f8c-0085-4a8c-82a7-12fe8fa35573",
   "metadata": {},
   "outputs": [],
   "source": [
    "top_5_restaurants = combined_reviews.iloc[top_5_indices]"
   ]
  },
  {
   "cell_type": "code",
   "execution_count": null,
   "id": "cc77f30d-4a94-4d86-a517-8b9f8a45fe18",
   "metadata": {},
   "outputs": [],
   "source": []
  },
  {
   "cell_type": "code",
   "execution_count": null,
   "id": "439de512-25cf-4f9e-9b61-e1626b7d41b7",
   "metadata": {},
   "outputs": [],
   "source": []
  },
  {
   "cell_type": "code",
   "execution_count": null,
   "id": "ccff619b-ac4c-4875-ba8a-ef6880c41e9b",
   "metadata": {},
   "outputs": [],
   "source": []
  },
  {
   "cell_type": "markdown",
   "id": "bb2252fd-7c2e-4f1b-80c1-578a3c119d42",
   "metadata": {},
   "source": [
    "## Sample Code for Reference below"
   ]
  },
  {
   "cell_type": "code",
   "execution_count": 3,
   "id": "41664e01-4087-467c-a900-dca6cbc0d72e",
   "metadata": {},
   "outputs": [],
   "source": [
    "# Load your DataFrame with restaurant reviews\n",
    "df = pd.DataFrame({\n",
    "    'restaurant_name': ['Restaurant A', 'Restaurant B', 'Restaurant C', 'Restaurant D', 'Restaurant E'],\n",
    "    'review_text': [\n",
    "        'The food was amazing and the service was excellent!',\n",
    "        'A lovely place with great ambiance, but the food was average.',\n",
    "        'Terrible service, but the food was decent.',\n",
    "        'The best restaurant experience I have ever had!',\n",
    "        'Good food, but the place was too crowded.'\n",
    "    ]\n",
    "})"
   ]
  },
  {
   "cell_type": "code",
   "execution_count": null,
   "id": "1fd12760-0c6d-4a39-acea-c09f4a76ea69",
   "metadata": {},
   "outputs": [],
   "source": [
    "# Initialize the BERT model\n",
    "model = SentenceTransformer('all-MiniLM-L6-v2')"
   ]
  },
  {
   "cell_type": "code",
   "execution_count": 5,
   "id": "de43a55e-05ad-4da5-8b5a-d7edc6340119",
   "metadata": {},
   "outputs": [],
   "source": [
    "# Encode the review texts into BERT embeddings\n",
    "review_embeddings = model.encode(df['review_text'].tolist(), convert_to_tensor=True)"
   ]
  },
  {
   "cell_type": "code",
   "execution_count": 6,
   "id": "a8d574ba-bc9b-4f30-89f1-21fd28b00943",
   "metadata": {},
   "outputs": [],
   "source": [
    "# Input keywords\n",
    "input_keywords = 'amazing service and great food'"
   ]
  },
  {
   "cell_type": "code",
   "execution_count": 7,
   "id": "3df6fa74-b123-43fc-a1c5-3697c1a47918",
   "metadata": {
    "scrolled": true
   },
   "outputs": [
    {
     "data": {
      "text/plain": [
       "tensor([-5.9450e-02,  2.8937e-02,  6.1454e-02, -1.9401e-02, -9.2930e-02,\n",
       "         2.2476e-02,  3.0218e-02, -4.8323e-02, -6.0863e-03, -1.3512e-03,\n",
       "         7.3016e-02,  3.7726e-02,  3.1857e-02,  4.6288e-03, -1.8009e-02,\n",
       "        -9.7719e-02,  1.4599e-01, -9.7150e-02, -3.5542e-02, -1.4181e-01,\n",
       "        -6.4401e-02, -2.3209e-03,  2.8313e-02, -1.1180e-02, -9.2467e-02,\n",
       "         6.4219e-02, -3.7828e-02,  2.1000e-02, -7.2896e-03, -9.7328e-02,\n",
       "        -3.1132e-02, -8.4543e-03,  1.1060e-02,  3.2587e-02, -1.0543e-02,\n",
       "         6.6061e-02,  1.0183e-01, -1.3654e-01,  3.1303e-02,  1.8902e-02,\n",
       "        -7.2216e-03, -2.4764e-02,  2.5153e-02, -1.7342e-02, -1.7283e-02,\n",
       "         1.0748e-02, -2.4848e-02,  1.2393e-02,  1.0617e-01,  1.8149e-03,\n",
       "        -3.2808e-02, -2.6896e-02,  4.1898e-02, -1.9722e-02,  2.2352e-02,\n",
       "         3.5966e-02, -7.8120e-02, -7.1197e-02, -8.1964e-02, -1.7621e-02,\n",
       "         8.6390e-03,  2.7901e-02, -1.1474e-02, -8.9679e-03, -4.2940e-05,\n",
       "        -8.0144e-02, -1.1277e-01,  1.3987e-02, -3.5096e-02, -4.2749e-02,\n",
       "        -7.0428e-02,  6.5814e-02,  5.3395e-02,  3.3239e-02, -1.9370e-02,\n",
       "         8.8847e-02,  5.1641e-02, -5.0159e-02, -2.1365e-02, -2.6969e-02,\n",
       "         3.4705e-02, -7.0465e-02, -1.4386e-03,  5.4678e-02, -6.9251e-02,\n",
       "        -1.1453e-01, -2.7155e-02, -5.0353e-02,  5.1529e-02, -1.3551e-02,\n",
       "         7.1572e-02,  1.5572e-02, -3.5701e-02, -5.0845e-02, -8.9112e-03,\n",
       "        -4.5790e-02, -2.5388e-02, -1.1805e-01, -4.3621e-02,  6.9082e-02,\n",
       "         2.2542e-02,  4.5651e-02,  8.0031e-03, -3.8851e-02, -1.2170e-02,\n",
       "        -3.7569e-02, -3.3360e-02,  7.5782e-02,  2.3186e-02, -5.7649e-05,\n",
       "         6.1437e-03,  6.4246e-02, -3.4116e-02,  3.8971e-02, -2.8896e-03,\n",
       "         7.2749e-02, -6.0731e-03, -4.9014e-02, -1.1955e-02, -5.8483e-02,\n",
       "         3.3886e-02,  7.9034e-02, -2.1504e-02,  1.2230e-02, -5.8083e-02,\n",
       "         3.7841e-03,  1.5779e-01, -3.3740e-33, -9.6754e-02,  4.1102e-02,\n",
       "         9.5452e-02,  1.5787e-02,  6.4406e-02,  1.9851e-02, -3.8341e-02,\n",
       "        -3.6161e-02, -2.6273e-02,  1.1099e-02, -4.8948e-02,  6.1631e-02,\n",
       "         5.5632e-02,  1.2534e-02, -2.2898e-02, -8.1192e-02, -8.1228e-02,\n",
       "         3.3651e-02,  2.3455e-02,  4.5518e-02, -5.5605e-02, -1.8397e-02,\n",
       "         2.5003e-02,  7.2466e-02,  6.2540e-02, -6.0902e-02,  9.1076e-03,\n",
       "        -7.9125e-03,  8.2533e-02,  1.3541e-02, -6.5388e-04, -5.1746e-02,\n",
       "        -6.1973e-03,  1.1525e-02, -5.1191e-02, -2.4056e-02, -5.3336e-02,\n",
       "        -1.1750e-01, -1.6240e-02,  4.4752e-02,  4.6716e-02,  1.1865e-02,\n",
       "        -2.9109e-02,  4.6485e-02, -2.9903e-02,  3.7884e-02,  3.6950e-03,\n",
       "         6.8271e-02,  4.2284e-02, -3.0180e-02, -5.6414e-02, -9.3320e-03,\n",
       "        -2.9230e-02,  2.1869e-02,  6.9592e-03,  1.4152e-02,  3.0934e-02,\n",
       "         5.3180e-02,  3.8295e-02, -3.3704e-02,  4.8121e-02, -7.3050e-04,\n",
       "        -3.5045e-02, -6.4718e-02,  3.4111e-02, -6.4649e-02,  3.5374e-02,\n",
       "        -2.3878e-02,  2.2238e-02,  5.8921e-02,  1.6115e-02, -1.5320e-02,\n",
       "         1.0181e-01, -5.3728e-02,  1.0873e-02,  1.7612e-02, -2.1154e-02,\n",
       "        -2.6018e-02,  3.4196e-02,  3.9229e-02,  5.3400e-02,  2.4192e-02,\n",
       "         4.1391e-02,  2.1121e-03,  3.5306e-02,  7.7905e-02, -3.0523e-02,\n",
       "        -1.0443e-01,  1.1198e-02,  4.0569e-02, -8.4017e-02,  5.3800e-02,\n",
       "         7.4972e-02,  1.0938e-02, -2.7669e-02,  2.6136e-33,  4.1709e-02,\n",
       "         3.1639e-02,  3.8488e-02,  7.0932e-02, -1.6117e-02, -3.0456e-02,\n",
       "        -9.9653e-02,  5.4191e-02, -3.8536e-02,  5.6557e-02,  1.0577e-02,\n",
       "         7.8966e-02,  4.2489e-02,  1.0962e-02, -8.9181e-02,  5.0776e-02,\n",
       "         4.7272e-02,  6.4085e-02, -1.4430e-02, -3.3435e-02, -7.2146e-02,\n",
       "         1.1430e-01,  5.3947e-03,  3.1445e-02, -3.9521e-02,  9.1074e-02,\n",
       "        -6.3694e-02,  6.5402e-02, -4.6856e-02, -8.3586e-02,  2.9438e-03,\n",
       "         1.8507e-02, -1.1941e-02, -2.8630e-02, -1.5322e-02,  1.0459e-01,\n",
       "         2.8490e-02,  5.2602e-03, -3.4487e-02,  5.1862e-02,  4.9769e-02,\n",
       "        -3.6371e-02, -2.0662e-02,  5.1786e-02,  9.1443e-03, -1.4968e-02,\n",
       "        -1.1387e-02, -8.8192e-02, -8.6605e-02, -1.2169e-02, -8.9151e-02,\n",
       "        -1.4074e-02, -4.0668e-02, -3.1243e-02,  4.7392e-04,  1.3019e-02,\n",
       "         4.2893e-02, -5.2668e-03, -2.8169e-02, -7.4268e-02, -3.4497e-02,\n",
       "         7.0862e-02,  1.4224e-02,  7.9754e-02,  1.6197e-01, -6.9206e-02,\n",
       "         6.4824e-02, -6.5992e-02, -6.0419e-02, -3.1256e-02, -7.5418e-02,\n",
       "         3.0345e-02, -5.2244e-02,  8.6818e-02, -7.2714e-02, -4.8528e-02,\n",
       "         3.3853e-02, -3.1474e-02, -1.0057e-02,  3.5308e-02, -7.4393e-03,\n",
       "        -2.1910e-02, -1.3625e-02, -8.6170e-04,  2.3790e-02,  4.8701e-02,\n",
       "         1.0928e-02, -1.9919e-02,  4.0888e-03,  7.7312e-02, -2.6872e-02,\n",
       "         9.7024e-03, -7.0769e-02, -3.4113e-03,  5.8296e-02, -1.4779e-08,\n",
       "         4.2159e-02,  2.1027e-02, -7.7826e-02,  6.4650e-02, -1.7240e-02,\n",
       "        -9.4430e-02,  2.1818e-02,  3.9960e-03,  8.3989e-03,  6.3592e-02,\n",
       "        -3.7272e-02,  3.8842e-02, -4.1243e-02,  8.0940e-02,  9.8438e-02,\n",
       "        -2.2474e-02,  2.1533e-02,  6.7014e-02, -6.7650e-03,  4.1381e-02,\n",
       "         1.9600e-02,  6.1246e-02,  6.1137e-02, -1.2823e-02, -1.6888e-02,\n",
       "         2.1514e-02, -3.6319e-03,  2.9575e-02,  5.8699e-02,  2.3753e-02,\n",
       "        -2.9524e-02,  1.7347e-03, -2.9165e-02,  2.6606e-02,  1.4198e-02,\n",
       "        -5.8064e-04, -7.6896e-02, -8.4712e-02,  4.0227e-02, -4.2676e-02,\n",
       "        -2.6218e-02,  2.3098e-02, -8.6777e-02, -3.3447e-02, -7.8291e-03,\n",
       "         8.7680e-03, -1.9817e-02,  8.5691e-02, -3.3965e-02,  2.2698e-02,\n",
       "        -2.3304e-02,  1.3040e-02,  7.9256e-02,  3.6362e-02,  2.2021e-02,\n",
       "        -5.8479e-03,  4.3361e-02, -4.1106e-02,  5.8555e-02,  1.2565e-01,\n",
       "         5.2887e-02, -4.4556e-03, -6.6046e-02, -1.1451e-02], device='mps:0')"
      ]
     },
     "execution_count": 7,
     "metadata": {},
     "output_type": "execute_result"
    }
   ],
   "source": [
    "# Encode the input keywords into BERT embeddings\n",
    "keyword_embedding = model.encode(input_keywords, convert_to_tensor=True)\n",
    "keyword_embedding"
   ]
  },
  {
   "cell_type": "code",
   "execution_count": 8,
   "id": "904ade48-a90a-42ab-af54-89014a737ec1",
   "metadata": {},
   "outputs": [
    {
     "data": {
      "text/plain": [
       "tensor([0.8547, 0.5265, 0.6614, 0.6682, 0.4443], device='mps:0')"
      ]
     },
     "execution_count": 8,
     "metadata": {},
     "output_type": "execute_result"
    }
   ],
   "source": [
    "# Compute cosine similarities between the keyword embedding and each review embedding\n",
    "cosine_scores = util.pytorch_cos_sim(keyword_embedding, review_embeddings)[0]\n",
    "cosine_scores"
   ]
  },
  {
   "cell_type": "code",
   "execution_count": 10,
   "id": "d314d6b7-f5cb-4a7a-9e02-831d54662a44",
   "metadata": {},
   "outputs": [],
   "source": [
    "# Move tensor to CPU and convert to NumPy array\n",
    "cosine_scores_cpu = cosine_scores.cpu().numpy()"
   ]
  },
  {
   "cell_type": "code",
   "execution_count": 11,
   "id": "136eddb2-eb78-49e3-a0c6-30b1d742f309",
   "metadata": {},
   "outputs": [],
   "source": [
    "# Get the top 5 most similar reviews\n",
    "top_5_indices = np.argsort(cosine_scores_cpu)[-5:][::-1]\n",
    "top_5_restaurants = df.iloc[top_5_indices]"
   ]
  },
  {
   "cell_type": "code",
   "execution_count": 12,
   "id": "180a2418-0b6f-4fd5-88e6-3bea2d9d9e27",
   "metadata": {},
   "outputs": [
    {
     "name": "stdout",
     "output_type": "stream",
     "text": [
      "  restaurant_name                                        review_text\n",
      "0    Restaurant A  The food was amazing and the service was excel...\n",
      "3    Restaurant D    The best restaurant experience I have ever had!\n",
      "2    Restaurant C         Terrible service, but the food was decent.\n",
      "1    Restaurant B  A lovely place with great ambiance, but the fo...\n",
      "4    Restaurant E          Good food, but the place was too crowded.\n"
     ]
    }
   ],
   "source": [
    "# Print the results\n",
    "print(top_5_restaurants[['restaurant_name', 'review_text']])"
   ]
  },
  {
   "cell_type": "code",
   "execution_count": null,
   "id": "787fbf36-a0fb-43fc-9b90-6b8904c4daaf",
   "metadata": {},
   "outputs": [],
   "source": []
  }
 ],
 "metadata": {
  "kernelspec": {
   "display_name": "Python 3 (ipykernel)",
   "language": "python",
   "name": "python3"
  },
  "language_info": {
   "codemirror_mode": {
    "name": "ipython",
    "version": 3
   },
   "file_extension": ".py",
   "mimetype": "text/x-python",
   "name": "python",
   "nbconvert_exporter": "python",
   "pygments_lexer": "ipython3",
   "version": "3.10.6"
  }
 },
 "nbformat": 4,
 "nbformat_minor": 5
}
