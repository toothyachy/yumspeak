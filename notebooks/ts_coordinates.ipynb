{
 "cells": [
  {
   "cell_type": "code",
   "execution_count": 3,
   "metadata": {},
   "outputs": [],
   "source": [
    "import pandas as pd\n",
    "import numpy as np\n",
    "\n",
    "import os\n",
    "import sys\n",
    "sys.path.append(os.path.dirname(os.path.abspath(os.path.abspath(''))))\n",
    "from yumspeak_ml.params import *"
   ]
  },
  {
   "cell_type": "code",
   "execution_count": 11,
   "metadata": {},
   "outputs": [
    {
     "data": {
      "text/html": [
       "<div>\n",
       "<style scoped>\n",
       "    .dataframe tbody tr th:only-of-type {\n",
       "        vertical-align: middle;\n",
       "    }\n",
       "\n",
       "    .dataframe tbody tr th {\n",
       "        vertical-align: top;\n",
       "    }\n",
       "\n",
       "    .dataframe thead th {\n",
       "        text-align: right;\n",
       "    }\n",
       "</style>\n",
       "<table border=\"1\" class=\"dataframe\">\n",
       "  <thead>\n",
       "    <tr style=\"text-align: right;\">\n",
       "      <th></th>\n",
       "      <th>Restaurant Name</th>\n",
       "      <th>Address</th>\n",
       "    </tr>\n",
       "  </thead>\n",
       "  <tbody>\n",
       "    <tr>\n",
       "      <th>0</th>\n",
       "      <td>(Fu Chan) Harummanis Muslim Food</td>\n",
       "      <td>145 Teck Whye Ln</td>\n",
       "    </tr>\n",
       "    <tr>\n",
       "      <th>1</th>\n",
       "      <td>01-22 Wufu Hakka Noodle</td>\n",
       "      <td>Singapore</td>\n",
       "    </tr>\n",
       "    <tr>\n",
       "      <th>2</th>\n",
       "      <td>116 PHỐ ĐÊM</td>\n",
       "      <td>116 Mackenzie Rd</td>\n",
       "    </tr>\n",
       "    <tr>\n",
       "      <th>3</th>\n",
       "      <td>123 ZÔ - Ẩm Thực Việt</td>\n",
       "      <td>12 Gopeng St, #01-45, 49-51 icon village, Sing...</td>\n",
       "    </tr>\n",
       "    <tr>\n",
       "      <th>4</th>\n",
       "      <td>123 Zô The Việt Kitchen</td>\n",
       "      <td>18 Raffles Quay, 01-48 Lau Pa Sat</td>\n",
       "    </tr>\n",
       "    <tr>\n",
       "      <th>...</th>\n",
       "      <td>...</td>\n",
       "      <td>...</td>\n",
       "    </tr>\n",
       "    <tr>\n",
       "      <th>3190</th>\n",
       "      <td>麻辣诱惑 Spice Spirits Singapore</td>\n",
       "      <td>14 Foch Rd</td>\n",
       "    </tr>\n",
       "    <tr>\n",
       "      <th>3191</th>\n",
       "      <td>鼎鼎紅麻辣香鍋 Ding Ding Hong Mala HotPot</td>\n",
       "      <td>1 Kadayanallur St, 01-41</td>\n",
       "    </tr>\n",
       "    <tr>\n",
       "      <th>3192</th>\n",
       "      <td>안녕하세요 Hello Korean BBQ</td>\n",
       "      <td>45 / 46 Circular Rd</td>\n",
       "    </tr>\n",
       "    <tr>\n",
       "      <th>3193</th>\n",
       "      <td>예약 YeYak Korean Restaurant</td>\n",
       "      <td>Singapore</td>\n",
       "    </tr>\n",
       "    <tr>\n",
       "      <th>3194</th>\n",
       "      <td>𝗔𝗪𝗔𝗗𝗛 | Royal Indian Dining &amp; Lounge</td>\n",
       "      <td>01-33H, The Centrepoint, 176 Orchard Rd</td>\n",
       "    </tr>\n",
       "  </tbody>\n",
       "</table>\n",
       "<p>3195 rows × 2 columns</p>\n",
       "</div>"
      ],
      "text/plain": [
       "                           Restaurant Name  \\\n",
       "0         (Fu Chan) Harummanis Muslim Food   \n",
       "1                  01-22 Wufu Hakka Noodle   \n",
       "2                              116 PHỐ ĐÊM   \n",
       "3                    123 ZÔ - Ẩm Thực Việt   \n",
       "4                  123 Zô The Việt Kitchen   \n",
       "...                                    ...   \n",
       "3190          麻辣诱惑 Spice Spirits Singapore   \n",
       "3191    鼎鼎紅麻辣香鍋 Ding Ding Hong Mala HotPot   \n",
       "3192                안녕하세요 Hello Korean BBQ   \n",
       "3193            예약 YeYak Korean Restaurant   \n",
       "3194  𝗔𝗪𝗔𝗗𝗛 | Royal Indian Dining & Lounge   \n",
       "\n",
       "                                                Address  \n",
       "0                                      145 Teck Whye Ln  \n",
       "1                                             Singapore  \n",
       "2                                      116 Mackenzie Rd  \n",
       "3     12 Gopeng St, #01-45, 49-51 icon village, Sing...  \n",
       "4                     18 Raffles Quay, 01-48 Lau Pa Sat  \n",
       "...                                                 ...  \n",
       "3190                                         14 Foch Rd  \n",
       "3191                           1 Kadayanallur St, 01-41  \n",
       "3192                                45 / 46 Circular Rd  \n",
       "3193                                          Singapore  \n",
       "3194            01-33H, The Centrepoint, 176 Orchard Rd  \n",
       "\n",
       "[3195 rows x 2 columns]"
      ]
     },
     "execution_count": 11,
     "metadata": {},
     "output_type": "execute_result"
    }
   ],
   "source": [
    "data = pd.read_csv('/Users/triciascy/code/toothyachy/yumspeak/name_data/restaurant_df.csv').drop(columns='Unnamed: 0')\n",
    "data"
   ]
  },
  {
   "cell_type": "code",
   "execution_count": 9,
   "metadata": {},
   "outputs": [],
   "source": [
    "#get lat lng using mapbox\n",
    "import geocoder\n",
    "\n",
    "def get_latlng(address):\n",
    "    g = geocoder.mapbox(f\"{address},SG\", key=MAP_API)\n",
    "    latlng = (g.json['lat'], g.json['lng'])\n",
    "\n",
    "    return np.array(latlng)"
   ]
  },
  {
   "cell_type": "code",
   "execution_count": 10,
   "metadata": {},
   "outputs": [],
   "source": [
    "# get coordinates for address\n",
    "def coordinates(address):\n",
    "    if address == 'Singapore':\n",
    "        return np.array((1.288799, 103.840943))\n",
    "    else:\n",
    "        return get_latlng(address)"
   ]
  },
  {
   "cell_type": "code",
   "execution_count": 12,
   "metadata": {},
   "outputs": [],
   "source": [
    "df = data.copy()"
   ]
  },
  {
   "cell_type": "code",
   "execution_count": 14,
   "metadata": {},
   "outputs": [
    {
     "name": "stdout",
     "output_type": "stream",
     "text": [
      "<class 'pandas.core.frame.DataFrame'>\n",
      "RangeIndex: 3195 entries, 0 to 3194\n",
      "Data columns (total 2 columns):\n",
      " #   Column           Non-Null Count  Dtype \n",
      "---  ------           --------------  ----- \n",
      " 0   Restaurant Name  3195 non-null   object\n",
      " 1   Address          3195 non-null   object\n",
      "dtypes: object(2)\n",
      "memory usage: 50.0+ KB\n"
     ]
    }
   ],
   "source": [
    "df.info()"
   ]
  },
  {
   "cell_type": "code",
   "execution_count": 19,
   "metadata": {},
   "outputs": [],
   "source": [
    "def lat_lng(df):\n",
    "    df['Address'] = df['Address'].replace({'#*': ''}, regex=True)\n",
    "    df['coordinates'] = df['Address'].apply(coordinates)\n",
    "    df['lat'] = df['coordinates'].apply(lambda x: x[0])\n",
    "    df['lng'] = df['coordinates'].apply(lambda x: x[1])\n",
    "    df = df.drop(columns='coordinates')\n",
    "    return df"
   ]
  },
  {
   "cell_type": "code",
   "execution_count": 20,
   "metadata": {},
   "outputs": [
    {
     "data": {
      "text/html": [
       "<div>\n",
       "<style scoped>\n",
       "    .dataframe tbody tr th:only-of-type {\n",
       "        vertical-align: middle;\n",
       "    }\n",
       "\n",
       "    .dataframe tbody tr th {\n",
       "        vertical-align: top;\n",
       "    }\n",
       "\n",
       "    .dataframe thead th {\n",
       "        text-align: right;\n",
       "    }\n",
       "</style>\n",
       "<table border=\"1\" class=\"dataframe\">\n",
       "  <thead>\n",
       "    <tr style=\"text-align: right;\">\n",
       "      <th></th>\n",
       "      <th>Restaurant Name</th>\n",
       "      <th>Address</th>\n",
       "      <th>lat</th>\n",
       "      <th>lng</th>\n",
       "    </tr>\n",
       "  </thead>\n",
       "  <tbody>\n",
       "    <tr>\n",
       "      <th>0</th>\n",
       "      <td>(Fu Chan) Harummanis Muslim Food</td>\n",
       "      <td>145 Teck Whye Ln</td>\n",
       "      <td>1.381223</td>\n",
       "      <td>103.752383</td>\n",
       "    </tr>\n",
       "    <tr>\n",
       "      <th>1</th>\n",
       "      <td>01-22 Wufu Hakka Noodle</td>\n",
       "      <td>Singapore</td>\n",
       "      <td>1.288799</td>\n",
       "      <td>103.840943</td>\n",
       "    </tr>\n",
       "    <tr>\n",
       "      <th>2</th>\n",
       "      <td>116 PHỐ ĐÊM</td>\n",
       "      <td>116 Mackenzie Rd</td>\n",
       "      <td>1.306633</td>\n",
       "      <td>103.847250</td>\n",
       "    </tr>\n",
       "    <tr>\n",
       "      <th>3</th>\n",
       "      <td>123 ZÔ - Ẩm Thực Việt</td>\n",
       "      <td>12 Gopeng St, 01-45, 49-51 icon village, Singa...</td>\n",
       "      <td>1.275493</td>\n",
       "      <td>103.844649</td>\n",
       "    </tr>\n",
       "    <tr>\n",
       "      <th>4</th>\n",
       "      <td>123 Zô The Việt Kitchen</td>\n",
       "      <td>18 Raffles Quay, 01-48 Lau Pa Sat</td>\n",
       "      <td>41.091140</td>\n",
       "      <td>-78.290746</td>\n",
       "    </tr>\n",
       "    <tr>\n",
       "      <th>...</th>\n",
       "      <td>...</td>\n",
       "      <td>...</td>\n",
       "      <td>...</td>\n",
       "      <td>...</td>\n",
       "    </tr>\n",
       "    <tr>\n",
       "      <th>3190</th>\n",
       "      <td>麻辣诱惑 Spice Spirits Singapore</td>\n",
       "      <td>14 Foch Rd</td>\n",
       "      <td>1.311998</td>\n",
       "      <td>103.859903</td>\n",
       "    </tr>\n",
       "    <tr>\n",
       "      <th>3191</th>\n",
       "      <td>鼎鼎紅麻辣香鍋 Ding Ding Hong Mala HotPot</td>\n",
       "      <td>1 Kadayanallur St, 01-41</td>\n",
       "      <td>1.280374</td>\n",
       "      <td>103.844659</td>\n",
       "    </tr>\n",
       "    <tr>\n",
       "      <th>3192</th>\n",
       "      <td>안녕하세요 Hello Korean BBQ</td>\n",
       "      <td>45 / 46 Circular Rd</td>\n",
       "      <td>1.286116</td>\n",
       "      <td>103.849490</td>\n",
       "    </tr>\n",
       "    <tr>\n",
       "      <th>3193</th>\n",
       "      <td>예약 YeYak Korean Restaurant</td>\n",
       "      <td>Singapore</td>\n",
       "      <td>1.288799</td>\n",
       "      <td>103.840943</td>\n",
       "    </tr>\n",
       "    <tr>\n",
       "      <th>3194</th>\n",
       "      <td>𝗔𝗪𝗔𝗗𝗛 | Royal Indian Dining &amp; Lounge</td>\n",
       "      <td>01-33H, The Centrepoint, 176 Orchard Rd</td>\n",
       "      <td>1.351616</td>\n",
       "      <td>103.808053</td>\n",
       "    </tr>\n",
       "  </tbody>\n",
       "</table>\n",
       "<p>3195 rows × 4 columns</p>\n",
       "</div>"
      ],
      "text/plain": [
       "                           Restaurant Name  \\\n",
       "0         (Fu Chan) Harummanis Muslim Food   \n",
       "1                  01-22 Wufu Hakka Noodle   \n",
       "2                              116 PHỐ ĐÊM   \n",
       "3                    123 ZÔ - Ẩm Thực Việt   \n",
       "4                  123 Zô The Việt Kitchen   \n",
       "...                                    ...   \n",
       "3190          麻辣诱惑 Spice Spirits Singapore   \n",
       "3191    鼎鼎紅麻辣香鍋 Ding Ding Hong Mala HotPot   \n",
       "3192                안녕하세요 Hello Korean BBQ   \n",
       "3193            예약 YeYak Korean Restaurant   \n",
       "3194  𝗔𝗪𝗔𝗗𝗛 | Royal Indian Dining & Lounge   \n",
       "\n",
       "                                                Address        lat         lng  \n",
       "0                                      145 Teck Whye Ln   1.381223  103.752383  \n",
       "1                                             Singapore   1.288799  103.840943  \n",
       "2                                      116 Mackenzie Rd   1.306633  103.847250  \n",
       "3     12 Gopeng St, 01-45, 49-51 icon village, Singa...   1.275493  103.844649  \n",
       "4                     18 Raffles Quay, 01-48 Lau Pa Sat  41.091140  -78.290746  \n",
       "...                                                 ...        ...         ...  \n",
       "3190                                         14 Foch Rd   1.311998  103.859903  \n",
       "3191                           1 Kadayanallur St, 01-41   1.280374  103.844659  \n",
       "3192                                45 / 46 Circular Rd   1.286116  103.849490  \n",
       "3193                                          Singapore   1.288799  103.840943  \n",
       "3194            01-33H, The Centrepoint, 176 Orchard Rd   1.351616  103.808053  \n",
       "\n",
       "[3195 rows x 4 columns]"
      ]
     },
     "execution_count": 20,
     "metadata": {},
     "output_type": "execute_result"
    }
   ],
   "source": [
    "df = lat_lng(df)\n",
    "df"
   ]
  },
  {
   "cell_type": "code",
   "execution_count": null,
   "metadata": {},
   "outputs": [],
   "source": [
    "df.to_csv('/Users/triciascy/code/toothyachy/yumspeak/name_data/master_restaurant_df.csv') #index=False"
   ]
  },
  {
   "cell_type": "code",
   "execution_count": null,
   "metadata": {},
   "outputs": [],
   "source": [
    "df_0_300 = df_all.iloc[0:300].copy()\n",
    "df_0_300.to_csv('/Users/triciascy/code/toothyachy/yumspeak/name_data/df_0_300.csv')"
   ]
  },
  {
   "cell_type": "code",
   "execution_count": null,
   "metadata": {},
   "outputs": [],
   "source": [
    "df_300_600 = df_all.iloc[300:600].copy()\n",
    "df_300_600.to_csv('/Users/triciascy/code/toothyachy/yumspeak/name_data/df_300_600.csv')"
   ]
  },
  {
   "cell_type": "code",
   "execution_count": null,
   "metadata": {},
   "outputs": [],
   "source": [
    "df_600_900 = df_all.iloc[600:900].copy()\n",
    "df_600_900.to_csv('/Users/triciascy/code/toothyachy/yumspeak/name_data/df_600_900.csv')"
   ]
  },
  {
   "cell_type": "code",
   "execution_count": null,
   "metadata": {},
   "outputs": [],
   "source": [
    "df_900_1200 = df_all.iloc[900:1200].copy()\n",
    "df_900_1200.to_csv('/Users/triciascy/code/toothyachy/yumspeak/name_data/df_900_1200.csv')"
   ]
  },
  {
   "cell_type": "code",
   "execution_count": null,
   "metadata": {},
   "outputs": [],
   "source": [
    "df_1200_1500 = df_all.iloc[1200:1500].copy()\n",
    "df_1200_1500.to_csv('/Users/triciascy/code/toothyachy/yumspeak/name_data/df_1200_1500.csv')"
   ]
  },
  {
   "cell_type": "code",
   "execution_count": null,
   "metadata": {},
   "outputs": [],
   "source": [
    "df_1500_1800 = df_all.iloc[1500:1800].copy()\n",
    "df_1500_1800.to_csv('/Users/triciascy/code/toothyachy/yumspeak/name_data/df_1500_1800.csv')"
   ]
  },
  {
   "cell_type": "code",
   "execution_count": null,
   "metadata": {},
   "outputs": [],
   "source": [
    "df_1800_2100 = df_all.iloc[1800:2100].copy()\n",
    "df_1800_2100.to_csv('/Users/triciascy/code/toothyachy/yumspeak/name_data/df_1800_2100.csv')"
   ]
  },
  {
   "cell_type": "code",
   "execution_count": null,
   "metadata": {},
   "outputs": [],
   "source": [
    "df_2100_2400 = df_all.iloc[2100:2400].copy()\n",
    "df_2100_2400.to_csv('/Users/triciascy/code/toothyachy/yumspeak/name_data/df_2100_2400.csv')"
   ]
  },
  {
   "cell_type": "code",
   "execution_count": null,
   "metadata": {},
   "outputs": [],
   "source": [
    "df_2400_2700 = df_all.iloc[2400:2700].copy()\n",
    "df_2400_2700.to_csv('/Users/triciascy/code/toothyachy/yumspeak/name_data/df_2400_2700.csv')"
   ]
  },
  {
   "cell_type": "code",
   "execution_count": null,
   "metadata": {},
   "outputs": [],
   "source": [
    "df_2700_3000 = df_all.iloc[2700:3000].copy()\n",
    "df_2700_3000.to_csv('/Users/triciascy/code/toothyachy/yumspeak/name_data/df_2700_3000.csv')"
   ]
  },
  {
   "cell_type": "code",
   "execution_count": null,
   "metadata": {},
   "outputs": [],
   "source": [
    "df_3000_3194 = df_all.iloc[3000:].copy()\n",
    "df_3000_3194.to_csv('/Users/triciascy/code/toothyachy/yumspeak/name_data/df_3000_3194.csv')"
   ]
  }
 ],
 "metadata": {
  "kernelspec": {
   "display_name": "yumspeakenv",
   "language": "python",
   "name": "python3"
  },
  "language_info": {
   "codemirror_mode": {
    "name": "ipython",
    "version": 3
   },
   "file_extension": ".py",
   "mimetype": "text/x-python",
   "name": "python",
   "nbconvert_exporter": "python",
   "pygments_lexer": "ipython3",
   "version": "3.10.6"
  }
 },
 "nbformat": 4,
 "nbformat_minor": 2
}
